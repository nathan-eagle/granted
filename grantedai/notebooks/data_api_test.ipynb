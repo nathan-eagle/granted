{
 "cells": [
  {
   "cell_type": "markdown",
   "id": "581af586",
   "metadata": {},
   "source": [
    "\n",
    "Who needs Postman? This cell can be used to setup bubble workflows triggered via API.\n",
    "Step 1: Go to 'backend workflows' in bubble, and add a 'new api workflow'\n",
    "\n",
    "Step 2: In the dark grey popup when you click on your new workflow, click the 'Detect data' button.\n",
    "\n",
    "Step 3: Fill out the json below with the data you want to send to bubble.\n",
    "\n",
    "Step 4: Update the url to the one displayed by bubble when you click 'Detect data'\n",
    "\n",
    "Step 5: Run the below code using the 'initialize' url\n",
    "\n",
    "Step 6: Back in bubble, the popup should now be showing the data you sent. Bubble wants you to use dropdown menu to set the data types for incoming data\n",
    "\n",
    "Step 7: Add a \"create new xyz' step in bubble inside your new api workflow. you should be able to set values to the data you are sending.\n",
    "\n",
    "Step 8: Run the below code with the same URL, just remove the /initialize function. POSTing with this url will trigger your new workflow\n",
    "\n",
    "Step 9: Look in app data to see your data!"
   ]
  },
  {
   "cell_type": "markdown",
   "id": "f43bda93",
   "metadata": {},
   "source": [
    "# Use this cell to initialize data types for backend workflow"
   ]
  },
  {
   "cell_type": "code",
   "execution_count": 1,
   "id": "e70aa524",
   "metadata": {},
   "outputs": [
    {
     "name": "stdout",
     "output_type": "stream",
     "text": [
      "{\n",
      "    \"status\": \"SUCCESS\",\n",
      "    \"message\": \"The endpoint add_error was sucessfully initialized\"\n",
      "}\n"
     ]
    }
   ],
   "source": [
    "import requests\n",
    "\n",
    "data = {\"exception\": \"Error message will go here\", \"email\" : \"brian3000@gmail.com\"}\n",
    "\n",
    "bubble_api_url = \"https://grantedai.bubbleapps.io/version-test/api/1.1/wf/add_error/initialize\"\n",
    "\n",
    "# Make the API request to trigger the workflow\n",
    "response = requests.post(bubble_api_url, data=data)\n",
    "print(response.text)\n"
   ]
  },
  {
   "cell_type": "markdown",
   "id": "eb560796",
   "metadata": {},
   "source": [
    "## Use this cell to add trigger workflow and add entries to dev branch db"
   ]
  },
  {
   "cell_type": "code",
   "execution_count": 9,
   "id": "8141eb85",
   "metadata": {},
   "outputs": [
    {
     "name": "stdout",
     "output_type": "stream",
     "text": [
      "{\n",
      "    \"status\": \"success\",\n",
      "    \"response\": {}\n",
      "}\n"
     ]
    }
   ],
   "source": [
    "import requests\n",
    "\n",
    "data = {\"exception\": \"Testing error logging workflow\"}\n",
    "\n",
    "bubble_api_url = \"https://grantedai.bubbleapps.io/version-test/api/1.1/wf/add_error\"\n",
    "\n",
    "# Make the API request to trigger the workflow\n",
    "response = requests.post(bubble_api_url, data=data)\n",
    "print(response.text)"
   ]
  },
  {
   "cell_type": "markdown",
   "id": "981cab86",
   "metadata": {},
   "source": [
    "# Initialize nsf_response"
   ]
  },
  {
   "cell_type": "code",
   "execution_count": 2,
   "id": "626ef584",
   "metadata": {},
   "outputs": [
    {
     "name": "stdout",
     "output_type": "stream",
     "text": [
      "{\n",
      "    \"status\": \"SUCCESS\",\n",
      "    \"message\": \"The endpoint nsf_response was sucessfully initialized\"\n",
      "}\n"
     ]
    }
   ],
   "source": [
    "import requests\n",
    "URL = \"https://grantedai.bubbleapps.io/version-test/api/1.1/wf/nsf_response/initialize\"\n",
    "bubble_data = {\"tokens\" : 100, \"model\": \"NSF SBIR\", \"response_id\": 100, \"email\": \"brian3000@gmail.com\", \"text\": \"Try to make grant funnier\"}\n",
    "response = requests.post(URL,data=bubble_data)\n",
    "print(response.text)"
   ]
  },
  {
   "cell_type": "code",
   "execution_count": null,
   "id": "7ef65f7e",
   "metadata": {},
   "outputs": [],
   "source": []
  }
 ],
 "metadata": {
  "kernelspec": {
   "display_name": "Python 3 (ipykernel)",
   "language": "python",
   "name": "python3"
  },
  "language_info": {
   "codemirror_mode": {
    "name": "ipython",
    "version": 3
   },
   "file_extension": ".py",
   "mimetype": "text/x-python",
   "name": "python",
   "nbconvert_exporter": "python",
   "pygments_lexer": "ipython3",
   "version": "3.9.16"
  }
 },
 "nbformat": 4,
 "nbformat_minor": 5
}
