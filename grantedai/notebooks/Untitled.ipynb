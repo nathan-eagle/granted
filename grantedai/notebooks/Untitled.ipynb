{
 "cells": [
  {
   "cell_type": "code",
   "execution_count": 1,
   "id": "354cc421",
   "metadata": {},
   "outputs": [],
   "source": [
    "from urllib import parse\n",
    "import bs4\n",
    "import tiktoken\n",
    "import requests\n",
    "import re"
   ]
  },
  {
   "cell_type": "code",
   "execution_count": 6,
   "id": "67aa128f",
   "metadata": {},
   "outputs": [
    {
     "name": "stdout",
     "output_type": "stream",
     "text": [
      "ParseResult(scheme='https', netloc='seedfund.nsf.gov', path='/topics/biological-technologies/', params='', query='', fragment='')\n"
     ]
    }
   ],
   "source": []
  },
  {
   "cell_type": "code",
   "execution_count": 9,
   "id": "d7f3bf15",
   "metadata": {},
   "outputs": [
    {
     "name": "stdout",
     "output_type": "stream",
     "text": [
      "Enter a URL: https://seedfund.nsf.gov/topics/biological-technologies/\n",
      "Valid URL found: https://seedfund.nsf.gov/topics/biological-technologies/\n"
     ]
    }
   ],
   "source": [
    "import requests\n",
    "\n",
    "def generate_url_variations(url):\n",
    "    # Remove http, https, and www from the provided URL\n",
    "    stripped_url = url.replace('http://', '').replace('https://', '').replace('www.', '')\n",
    "    \n",
    "    # Generate all possible variations\n",
    "    url_variations = [\n",
    "        url,  # include the original url as the first item\n",
    "        f'http://{stripped_url}',\n",
    "        f'https://{stripped_url}',\n",
    "        f'http://www.{stripped_url}',\n",
    "        f'https://www.{stripped_url}',\n",
    "    ]\n",
    "    \n",
    "    return url_variations\n",
    "\n",
    "def find_valid_url(url_variations):\n",
    "    valid_url = None\n",
    "    for url in url_variations:\n",
    "        try:\n",
    "            response = requests.get(url, timeout=5)\n",
    "            if response.status_code == 200:\n",
    "                valid_url = url\n",
    "                break\n",
    "        except requests.exceptions.RequestException:\n",
    "            continue\n",
    "    return valid_url\n",
    "\n",
    "# Example usage\n",
    "url = input(\"Enter a URL: \")\n",
    "url_variations = generate_url_variations(url)\n",
    "valid_url = find_valid_url(url_variations)\n",
    "\n",
    "if valid_url:\n",
    "    print(f\"Valid URL found: {valid_url}\")\n",
    "else:\n",
    "    print(\"No valid URL found\")\n"
   ]
  },
  {
   "cell_type": "code",
   "execution_count": null,
   "id": "c834a100",
   "metadata": {},
   "outputs": [],
   "source": []
  }
 ],
 "metadata": {
  "kernelspec": {
   "display_name": "Python 3 (ipykernel)",
   "language": "python",
   "name": "python3"
  },
  "language_info": {
   "codemirror_mode": {
    "name": "ipython",
    "version": 3
   },
   "file_extension": ".py",
   "mimetype": "text/x-python",
   "name": "python",
   "nbconvert_exporter": "python",
   "pygments_lexer": "ipython3",
   "version": "3.9.16"
  }
 },
 "nbformat": 4,
 "nbformat_minor": 5
}
